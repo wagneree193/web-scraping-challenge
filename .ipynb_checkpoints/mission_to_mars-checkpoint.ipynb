{
 "cells": [
  {
   "cell_type": "code",
   "execution_count": 1,
   "metadata": {},
   "outputs": [],
   "source": [
    "# !pip install PyMongo\n",
    "# !pip install splinter\n",
    "# !pip install flask_pymongo\n",
    "#!pip install webdriver_manager\n",
    "from bs4 import BeautifulSoup as bs\n",
    "import requests\n",
    "import os\n",
    "import pandas as pd\n",
    "\n",
    "from splinter import Browser\n",
    "from flask import Flask, render_template, redirect\n",
    "from flask_pymongo import PyMongo\n",
    "import pymongo\n",
    "from webdriver_manager.chrome import ChromeDriverManager"
   ]
  },
  {
   "cell_type": "code",
   "execution_count": 2,
   "metadata": {},
   "outputs": [
    {
     "name": "stderr",
     "output_type": "stream",
     "text": [
      "\n",
      "\n",
      "====== WebDriver manager ======\n",
      "Current google-chrome version is 90.0.4430\n",
      "Get LATEST driver version for 90.0.4430\n",
      "Driver [C:\\Users\\wagne\\.wdm\\drivers\\chromedriver\\win32\\90.0.4430.24\\chromedriver.exe] found in cache\n"
     ]
    }
   ],
   "source": [
    "# set up splinter\n",
    "executable_path = {'executable_path' : ChromeDriverManager().install()}\n",
    "browser = Browser('chrome', **executable_path, headless = False)"
   ]
  },
  {
   "cell_type": "code",
   "execution_count": 3,
   "metadata": {},
   "outputs": [],
   "source": [
    "# connect to URL\n",
    "nasa_url = 'https://mars.nasa.gov/news/'\n",
    "browser.visit(nasa_url)\n",
    "# set up parser\n",
    "html = browser.html\n",
    "soup = bs(html, 'html.parser')"
   ]
  },
  {
   "cell_type": "code",
   "execution_count": 4,
   "metadata": {},
   "outputs": [],
   "source": [
    "#get most recent news article title and paragraph\n",
    "#calling 0th element ensures you will get the first title\n",
    "#go to the inspector pane on the web page to find the class for the header and the paragraph\n",
    "news_title = soup.find_all('div', class_='content_title')[0].text\n",
    "\n",
    "news_p = soup.find_all('div', class_='article_teaser_body')[0].text"
   ]
  },
  {
   "cell_type": "code",
   "execution_count": 5,
   "metadata": {},
   "outputs": [
    {
     "name": "stdout",
     "output_type": "stream",
     "text": [
      "Mars Now\n",
      "--------------------------\n",
      "The craft’s April 25 flight was conducted at speeds and distances beyond what had ever been previously demonstrated, even in testing on Earth.\n"
     ]
    }
   ],
   "source": [
    "# print the results\n",
    "print(news_title)\n",
    "print(\"--------------------------\")\n",
    "print(news_p)"
   ]
  },
  {
   "cell_type": "code",
   "execution_count": 6,
   "metadata": {},
   "outputs": [],
   "source": [
    "#JPL Mars Featured Image \n",
    "jpl_url = 'https://www.jpl.nasa.gov'\n",
    "image_url = \"https://www.jpl.nasa.gov/images?search=&category=Mars\"\n",
    "browser.visit(image_url)\n",
    "\n",
    "html = browser.html\n",
    "soup_img = bs(html, 'html.parser')"
   ]
  },
  {
   "cell_type": "code",
   "execution_count": 17,
   "metadata": {},
   "outputs": [
    {
     "name": "stdout",
     "output_type": "stream",
     "text": [
      "https://d2pn8kiwq2w21t.cloudfront.net/images/jpegPIA24621.2e16d0ba.fill-400x400-c50.jpg\n"
     ]
    }
   ],
   "source": [
    "#get relative image path from the search page\n",
    "relative_url = soup_img.find_all('img')[3][\"src\"]\n",
    "\n",
    "print(relative_url)"
   ]
  },
  {
   "cell_type": "code",
   "execution_count": 18,
   "metadata": {},
   "outputs": [
    {
     "name": "stdout",
     "output_type": "stream",
     "text": [
      "https://www.jpl.nasa.gov/images?search=&category=Marshttps://d2pn8kiwq2w21t.cloudfront.net/images/jpegPIA24621.2e16d0ba.fill-400x400-c50.jpg\n"
     ]
    }
   ],
   "source": [
    "#add search result to get the featured image path\n",
    "featured_image_url = image_url + relative_url\n",
    "print(featured_image_url)"
   ]
  },
  {
   "cell_type": "code",
   "execution_count": null,
   "metadata": {},
   "outputs": [],
   "source": [
    "#Mars facts\n",
    "# scrape the fact table using pandas\n",
    "facts_url = 'https://space-facts.com/mars/'\n",
    "fact_table = pd.read_html(facts_url)\n",
    "fact_table"
   ]
  },
  {
   "cell_type": "code",
   "execution_count": null,
   "metadata": {},
   "outputs": [],
   "source": [
    "mars_comparison = fact_table[1]\n",
    "mars_comparison"
   ]
  },
  {
   "cell_type": "code",
   "execution_count": null,
   "metadata": {},
   "outputs": [],
   "source": [
    "mars_comparison_html = mars_comparison.to_html()\n",
    "mars_comparison_html"
   ]
  },
  {
   "cell_type": "code",
   "execution_count": null,
   "metadata": {},
   "outputs": [],
   "source": [
    "#structure html to be more readable\n",
    "mars_comparison_html.replace('\\n','')\n",
    "print(mars_comparison_html)"
   ]
  },
  {
   "cell_type": "code",
   "execution_count": null,
   "metadata": {},
   "outputs": [],
   "source": [
    "# mars hemisphere images\n",
    "\n",
    "astrogeo_url = 'https://astrogeology.usgs.gov'\n",
    "hemi_url = 'https://astrogeology.usgs.gov/search/results?q=hemisphere+enhanced&k1=target&v1=Mars'\n",
    "\n",
    "browser.visit(hemi_url)\n",
    "hemi_html = browser.html\n",
    "soup_geo = bs(hemi_html, 'html.parser')"
   ]
  },
  {
   "cell_type": "code",
   "execution_count": null,
   "metadata": {},
   "outputs": [],
   "source": [
    "# use beautiful soup to find all data for each hemisphere\n",
    "hemisphere_path = soup_geo.find('div', class_='collapsible results')\n",
    "hemisphere_data = hemisphere_path.find_all('div', class_='item')"
   ]
  },
  {
   "cell_type": "code",
   "execution_count": null,
   "metadata": {},
   "outputs": [],
   "source": [
    "#make an empty list for the urls\n",
    "\n",
    "hemisphere_url_list = []\n",
    "\n",
    "#loop through the data for each hemisphere to scrape the target data\n",
    "#title is under h3 in the inspect pane\n",
    "for h in hemisphere_data:\n",
    "#     title\n",
    "    title =h.find('h3').text\n",
    "#     image link\n",
    "    hemis = h.find('div', class_= \"description\")\n",
    "    hemi_link = hemis.a['href']\n",
    "    browser.visit(astrogeo_url + hemi_link)    \n",
    "    html = browser.html\n",
    "    soup_hemi = bs(html, 'html.parser')   \n",
    "    img_path = soup_hemi.find('div', class_='downloads')\n",
    "    img_url = img_path.find('li').a['href']\n",
    "\n",
    "    # make dictionary for title and url\n",
    "    hemi_dict = {}\n",
    "    hemi_dict['title'] = title\n",
    "    hemi_dict['img_url'] = img_url\n",
    "    \n",
    "    hemisphere_url_list.append(hemi_dict)\n",
    "\n",
    "print(hemisphere_url_list)"
   ]
  },
  {
   "cell_type": "code",
   "execution_count": null,
   "metadata": {},
   "outputs": [],
   "source": []
  }
 ],
 "metadata": {
  "kernelspec": {
   "display_name": "Python 3",
   "language": "python",
   "name": "python3"
  },
  "language_info": {
   "codemirror_mode": {
    "name": "ipython",
    "version": 3
   },
   "file_extension": ".py",
   "mimetype": "text/x-python",
   "name": "python",
   "nbconvert_exporter": "python",
   "pygments_lexer": "ipython3",
   "version": "3.8.5"
  }
 },
 "nbformat": 4,
 "nbformat_minor": 4
}
